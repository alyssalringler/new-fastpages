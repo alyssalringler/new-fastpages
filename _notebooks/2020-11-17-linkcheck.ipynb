{
 "cells": [
  {
   "cell_type": "markdown",
   "metadata": {},
   "source": [
    "# \"AP Classroom Final Test\"\n",
    "\n",
    ">Note Time!\n",
    "\n",
    "- title: Final Exam Reflection \n",
    "- catagories: [College Board Quizzes/Tests]\n",
    "- toc: true\n",
    "- comments: true"
   ]
  },
  {
   "cell_type": "markdown",
   "metadata": {},
   "source": [
    "![screenshot](https://i2.paste.pics/50883b931e0652f47b75850de8144d3f.png)"
   ]
  },
  {
   "cell_type": "markdown",
   "metadata": {},
   "source": [
    "**Question 1:** Behavior of code that multiplies inside a loop"
   ]
  },
  {
   "cell_type": "markdown",
   "metadata": {},
   "source": [
    "![screenshot2](https://i2.paste.pics/ee53f7b2b239e369e2f0547a3efe9b70.png)"
   ]
  },
  {
   "cell_type": "markdown",
   "metadata": {},
   "source": [
    "**Explanation:** Initializing result to 2 and multiplying it by 5 a total of three times yields 2(5^3), not 2(5×3). The code segment initializes result to 2, then repeatedly multiplies result by 5 inside a loop. The loop iterates three times, so result is assigned the value of 2(5^3).\n"
   ]
  },
  {
   "cell_type": "markdown",
   "metadata": {},
   "source": [
    "**Question 2:** The list wordList contains a list of 10 string values. Which of the following is a valid index for the list?"
   ]
  },
  {
   "cell_type": "markdown",
   "metadata": {},
   "source": [
    "![screenshot3](https://i2.paste.pics/f99bd2c5bcfed936a3deef71edd5f9da.png)"
   ]
  },
  {
   "cell_type": "markdown",
   "metadata": {},
   "source": [
    "**Explanation:** While the list elements are strings, the indices of a list are typically nonnegative integers. List indices are typically nonnegative integers. The exam reference sheet describes a list structure whose index values are 1 through the number of elements in the list, inclusive. So, 4 would be considered a valid index. I read the question wrong and thought it was asking for a possible string element."
   ]
  },
  {
   "cell_type": "markdown",
   "metadata": {},
   "source": [
    "**Question 3:** Which variables are equal to 50 after assignments"
   ]
  },
  {
   "cell_type": "markdown",
   "metadata": {},
   "source": [
    "![screenshot4](https://i2.paste.pics/9b95a24b6cde5fb595b0e5478d2d61ae.png)"
   ]
  },
  {
   "cell_type": "markdown",
   "metadata": {},
   "source": [
    "**Explanation:** The value of y is initially 50, but its value is changed to 75 in the fifth statement. The first three statements assign values to the variables. The fourth statement assigns the value of y (which is 50) to x. The fifth statement assigns the value of z (which is 75) to y. The sixth statement assigns the value of x (which is 50) to z. Therefore, x and z both have the value 50."
   ]
  },
  {
   "cell_type": "markdown",
   "metadata": {},
   "source": [
    "**Final Reflection** Overall, I think I uderstoood all of the conepts on the test and most of my mistakes were made because I didn't read the entire question. When going over missed questions, I read the College Board explanation and made sure I understood why I got the question wrong. Then I went back to questions with the same skill that I got correct to make sure I understood the concepts it was covering. I noticed that 2 of the three questions I missed were part of skill set 4, so I will be sure to review that before the AP Exam."
   ]
  }
 ],
 "metadata": {
  "kernelspec": {
   "display_name": "Python 3.10.6 64-bit",
   "language": "python",
   "name": "python3"
  },
  "language_info": {
   "codemirror_mode": {
    "name": "ipython",
    "version": 3
   },
   "file_extension": ".py",
   "mimetype": "text/x-python",
   "name": "python",
   "nbconvert_exporter": "python",
   "pygments_lexer": "ipython3",
   "version": "3.10.6"
  },
  "vscode": {
   "interpreter": {
    "hash": "b0fa6594d8f4cbf19f97940f81e996739fb7646882a419484c72d19e05852a7e"
   }
  }
 },
 "nbformat": 4,
 "nbformat_minor": 4
}
